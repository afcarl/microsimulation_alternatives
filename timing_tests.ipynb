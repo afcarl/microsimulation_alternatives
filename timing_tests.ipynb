{
 "cells": [
  {
   "metadata": {},
   "cell_type": "markdown",
   "source": "# Microsimulation Timing Tests"
  },
  {
   "metadata": {},
   "cell_type": "markdown",
   "source": "## Modules"
  },
  {
   "metadata": {
    "collapsed": false,
    "trusted": true
   },
   "cell_type": "code",
   "source": "import numpy as np\n%load_ext cythonmagic",
   "execution_count": 1,
   "outputs": [
    {
     "output_type": "stream",
     "text": "/Users/kfor/anaconda/lib/python2.7/site-packages/IPython/extensions/cythonmagic.py:21: UserWarning: The Cython magic has been moved to the Cython package\n  warnings.warn(\"\"\"The Cython magic has been moved to the Cython package\"\"\")\n",
     "name": "stderr"
    }
   ]
  },
  {
   "metadata": {},
   "cell_type": "markdown",
   "source": "## Simulation Parameters"
  },
  {
   "metadata": {
    "collapsed": false,
    "trusted": true
   },
   "cell_type": "code",
   "source": "simulants = 1e6\nprob_death = np.array([.01,.01,.02,.05,.1,.2,.2,.4,.7,1]) # array of probabilities of death for the 10 age groups, in order\nages = ['{0:g}-{1:g}'.format(i*10, i*10+9) for i in range(9)] + ['90 plus'] # names of the 10 age groups",
   "execution_count": 2,
   "outputs": []
  },
  {
   "metadata": {},
   "cell_type": "markdown",
   "source": "## Python Loop"
  },
  {
   "metadata": {
    "collapsed": false,
    "trusted": false
   },
   "cell_type": "code",
   "source": "%%time\nmatrix = np.zeros((simulants,len(prob_death))) # rows=simulants, col=age groups\nfor age in range(prob_death.shape[0]):\n    for sim in np.arange(simulants):\n        if matrix[sim,age-1] == 1: # if the simulant has already died in a past age-time, they are dead forever\n            matrix[sim,age] = 1\n        else: # if they are not yet dead, expose them to the probability of death\n            matrix[sim,age] = np.random.binomial(1,prob_death[age])\n    print \"Age: {age}\\tPercent Dead: {dead:.1%}\".format(age=ages[age], dead=np.mean(matrix[:,age]))",
   "execution_count": 3,
   "outputs": [
    {
     "output_type": "stream",
     "name": "stdout",
     "text": "Age: 0-9\tPercent Dead: 1.0%\nAge: 10-19\tPercent Dead: 2.0%\nAge: 20-29\tPercent Dead: 3.9%\nAge: 30-39\tPercent Dead: 8.7%\nAge: 40-49\tPercent Dead: 17.9%\nAge: 50-59\tPercent Dead: 34.2%\nAge: 60-69\tPercent Dead: 47.4%\nAge: 70-79\tPercent Dead: 68.5%\nAge: 80-89\tPercent Dead: 90.5%\nAge: 90 plus\tPercent Dead: 100.0%\nCPU times: user 1min 16s, sys: 1.62 s, total: 1min 18s\nWall time: 1min 19s\n"
    }
   ]
  },
  {
   "metadata": {},
   "cell_type": "markdown",
   "source": "## Python Vectorized"
  },
  {
   "metadata": {
    "collapsed": false,
    "trusted": false
   },
   "cell_type": "code",
   "source": "%%time\nmatrix = np.empty((simulants,len(prob_death)))\nfor age in range(len(prob_death)):\n    matrix[:,age] = np.logical_or(np.random.binomial(1, prob_death[age], simulants), (matrix[:,age-1] if age > 0 else 0))\n    print \"Age: {age}\\tPercent Dead: {dead:.1%}\".format(age=ages[age], dead=np.mean(matrix[:,age]))",
   "execution_count": 4,
   "outputs": [
    {
     "output_type": "stream",
     "name": "stdout",
     "text": "Age: 0-9\tPercent Dead: 1.0%\nAge: 10-19\tPercent Dead: 2.0%\nAge: 20-29\tPercent Dead: 4.0%\nAge: 30-39\tPercent Dead: 8.8%\nAge: 40-49\tPercent Dead: 17.9%\nAge: 50-59\tPercent Dead: 34.4%\nAge: 60-69\tPercent Dead: 47.5%\nAge: 70-79\tPercent Dead: 68.4%\nAge: 80-89\tPercent Dead: 90.5%\nAge: 90 plus\tPercent Dead: 100.0%\nCPU times: user 459 ms, sys: 47.9 ms, total: 507 ms\nWall time: 509 ms\n"
    }
   ]
  },
  {
   "metadata": {},
   "cell_type": "markdown",
   "source": "## Cython"
  },
  {
   "metadata": {},
   "cell_type": "markdown",
   "source": "#### cython def"
  },
  {
   "metadata": {
    "collapsed": false,
    "trusted": false
   },
   "cell_type": "code",
   "source": "%%cython -l gsl -l gslcblas\ncimport cython\nfrom cython_gsl cimport *\nimport numpy as np\ncimport numpy as np\nfrom numpy cimport *\ndef csim(int simulants, ndarray[double, ndim=1] prob_death):\n    cdef:\n        gsl_rng *r = gsl_rng_alloc(gsl_rng_mt19937)\n        Py_ssize_t i, j\n        np.ndarray[uint32_t, ndim=2] M = np.empty((simulants,len(prob_death)), dtype='uint32')\n    for i in range(simulants):\n        for j in range(len(prob_death)):\n            M[i,j] = 1 if j > 0 and M[i,j-1] else gsl_ran_bernoulli(r, prob_death[j])\n    return M",
   "execution_count": 5,
   "outputs": []
  },
  {
   "metadata": {},
   "cell_type": "markdown",
   "source": "#### run cython"
  },
  {
   "metadata": {
    "collapsed": false,
    "trusted": false
   },
   "cell_type": "code",
   "source": "%%time\npct_dead = np.mean(csim(simulants, prob_death), axis=0)\nfor a in range(len(ages)):\n    print('Age: {age}\\tPercent Dead: {dead:.1%}'.format(age=ages[a], dead=pct_dead[a]))",
   "execution_count": 6,
   "outputs": [
    {
     "output_type": "stream",
     "name": "stdout",
     "text": "Age: 0-9\tPercent Dead: 1.0%\nAge: 10-19\tPercent Dead: 2.0%\nAge: 20-29\tPercent Dead: 4.0%\nAge: 30-39\tPercent Dead: 8.7%\nAge: 40-49\tPercent Dead: 17.8%\nAge: 50-59\tPercent Dead: 34.3%\nAge: 60-69\tPercent Dead: 47.4%\nAge: 70-79\tPercent Dead: 68.4%\nAge: 80-89\tPercent Dead: 90.5%\nAge: 90 plus\tPercent Dead: 100.0%\nCPU times: user 180 ms, sys: 17.8 ms, total: 198 ms\nWall time: 199 ms\n"
    }
   ]
  },
  {
   "metadata": {},
   "cell_type": "markdown",
   "source": "## Theano"
  },
  {
   "metadata": {
    "collapsed": false,
    "trusted": false
   },
   "cell_type": "code",
   "source": "import theano\nfrom theano import tensor as T\nfrom theano.tensor.shared_randomstreams import RandomStreams",
   "execution_count": 7,
   "outputs": [
    {
     "output_type": "stream",
     "name": "stdout",
     "text": "Couldn't import dot_parser, loading of dot files will not be possible.\n"
    }
   ]
  },
  {
   "metadata": {
    "collapsed": false,
    "trusted": false
   },
   "cell_type": "code",
   "source": "T_rng = RandomStreams()\nT_prob_alive = T.dvector()\nT_simulants = T.iscalar()",
   "execution_count": 8,
   "outputs": []
  },
  {
   "metadata": {
    "collapsed": false,
    "trusted": false
   },
   "cell_type": "code",
   "source": "T_matrix = T_rng.binomial(n=1, size=(T_simulants,T_prob_alive.shape[0]), p=T_prob_alive, ndim=2)\nT_alive = T.extra_ops.cumprod(T_matrix, axis=1)\nT_pct_dead = 1 - T_alive.mean(axis=0)\nf = theano.function([T_simulants, T_prob_alive], [T_pct_dead])",
   "execution_count": 9,
   "outputs": []
  },
  {
   "metadata": {
    "collapsed": false,
    "trusted": false
   },
   "cell_type": "code",
   "source": "%%time\npct_dead = f(simulants, 1-prob_death)\nfor a in range(len(ages)):\n    print('Age: {age}\\tPercent Dead: {dead:.1%}'.format(age=ages[a], dead=pct_dead[0][a]))",
   "execution_count": 10,
   "outputs": [
    {
     "output_type": "stream",
     "name": "stdout",
     "text": "Age: 0-9\tPercent Dead: 1.0%\nAge: 10-19\tPercent Dead: 2.0%\nAge: 20-29\tPercent Dead: 3.9%\nAge: 30-39\tPercent Dead: 8.8%\nAge: 40-49\tPercent Dead: 17.9%\nAge: 50-59\tPercent Dead: 34.3%\nAge: 60-69\tPercent Dead: 47.4%\nAge: 70-79\tPercent Dead: 68.5%\nAge: 80-89\tPercent Dead: 90.5%\nAge: 90 plus\tPercent Dead: 100.0%\nCPU times: user 725 ms, sys: 64.3 ms, total: 789 ms\nWall time: 790 ms\n"
    }
   ]
  }
 ],
 "metadata": {
  "kernelspec": {
   "name": "python2",
   "display_name": "Python 2",
   "language": "python"
  },
  "language_info": {
   "mimetype": "text/x-python",
   "nbconvert_exporter": "python",
   "name": "python",
   "pygments_lexer": "ipython2",
   "version": "2.7.11",
   "file_extension": ".py",
   "codemirror_mode": {
    "version": 2,
    "name": "ipython"
   }
  }
 },
 "nbformat": 4,
 "nbformat_minor": 0
}